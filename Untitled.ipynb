{
 "cells": [
  {
   "cell_type": "code",
   "execution_count": null,
   "id": "573f14f8-ce1c-42f4-b208-b81104684a58",
   "metadata": {},
   "outputs": [],
   "source": [
    "!pip install git+https://github.com/exobyte-labs/betamark.git"
   ]
  },
  {
   "cell_type": "code",
   "execution_count": null,
   "id": "60a59785-03b6-4462-b6e3-971b626990ac",
   "metadata": {},
   "outputs": [],
   "source": []
  }
 ],
 "metadata": {
  "kernelspec": {
   "display_name": "hw1",
   "language": "python",
   "name": "hw1"
  },
  "language_info": {
   "codemirror_mode": {
    "name": "ipython",
    "version": 3
   },
   "file_extension": ".py",
   "mimetype": "text/x-python",
   "name": "python",
   "nbconvert_exporter": "python",
   "pygments_lexer": "ipython3",
   "version": "3.8.10"
  }
 },
 "nbformat": 4,
 "nbformat_minor": 5
}
